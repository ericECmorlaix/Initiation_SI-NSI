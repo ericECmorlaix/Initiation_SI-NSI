{
 "cells": [
  {
   "cell_type": "markdown",
   "metadata": {},
   "source": [
    "# Le Bloc Note pour apprendre à coder des nombres en binaire"
   ]
  },
  {
   "cell_type": "markdown",
   "metadata": {},
   "source": [
    "## 1- Saurez-vous compter comme un ordinateur  ?\n",
    "\n",
    "Pour apprendre à compter comme le font les ordinateurs, vous allez commencer par jouer en binôme avec des cartes...\n",
    "\n",
    "### Préparation :\n",
    "Disposez les cinq cartes que vous avez reçues sur la table en face de vous en respectant l’ordre ci-dessous  :\n",
    "\n",
    "<img src=\"https://ericecmorlaix.github.io/img/5_Cartes.svg\" alt=\"5 cartes\" width=60%>\n",
    "\n",
    "### Phase 1 :\n",
    "Demandez à votre binôme de choisir un entier au hasard (ex :  $6$ , $21$, $15$ …) ;\n",
    "\n",
    "Retournez ou ne retournez pas certaines cartes de façon à compter autant de points visibles que le nombre entier choisi ;\n",
    "\n",
    "Maintenant inversez les rôles, et demandez à votre binôme d’afficher un autre entier que vous avez choisi au hasard..."
   ]
  },
  {
   "cell_type": "markdown",
   "metadata": {},
   "source": [
    "Existe-t-il un nombre qui peut être représenté de deux façons différentes avec les cartes ?"
   ]
  },
  {
   "cell_type": "raw",
   "metadata": {},
   "source": []
  },
  {
   "cell_type": "markdown",
   "metadata": {},
   "source": [
    "Peut-on afficher n'importe quel entier ? "
   ]
  },
  {
   "cell_type": "raw",
   "metadata": {},
   "source": []
  },
  {
   "cell_type": "markdown",
   "metadata": {},
   "source": [
    "Quel est le maximum ?  "
   ]
  },
  {
   "cell_type": "raw",
   "metadata": {},
   "source": []
  },
  {
   "cell_type": "markdown",
   "metadata": {},
   "source": [
    "> *Comptez à partir de $0$ et essayez de repérer le mécanisme de progression...*\n",
    "\n",
    "### Phase 2 :\n",
    "Pour chaque carte :\n",
    "- on note **``1``** si elle est tournée du côté visible (recto) ;\n",
    "- et on note **``0``** si la face est invisible (côté verso)."
   ]
  },
  {
   "cell_type": "markdown",
   "metadata": {},
   "source": [
    "Quel nombre est représenté par le mot **``01001``** ? "
   ]
  },
  {
   "cell_type": "raw",
   "metadata": {},
   "source": []
  },
  {
   "cell_type": "markdown",
   "metadata": {},
   "source": [
    "Quel nombre est représenté par le mot  **``00000``** ? "
   ]
  },
  {
   "cell_type": "raw",
   "metadata": {},
   "source": []
  },
  {
   "cell_type": "markdown",
   "metadata": {},
   "source": [
    "Quel nombre est représenté par le mot  **``11111``** ?"
   ]
  },
  {
   "cell_type": "raw",
   "metadata": {},
   "source": []
  },
  {
   "cell_type": "markdown",
   "metadata": {},
   "source": [
    "***\n",
    "\n",
    ">**Le système binaire** est un système de numération de position **de base deux** : les deux seuls chiffres qui le composent sont le **``0``** et le **``1``**.\n",
    ">\n",
    ">**Le système binaire est le \"langage\" des ordinateurs**. Toutes les machines numériques utilisent le système binaire pour coder des informations que ce soient des textes, des sons, des images ou des vidéos….\n",
    "\n",
    "***\n",
    "\n",
    "Comment écrit-on **$17$** en binaire ?  "
   ]
  },
  {
   "cell_type": "raw",
   "metadata": {},
   "source": []
  },
  {
   "cell_type": "markdown",
   "metadata": {},
   "source": [
    "> *Etc… entraînez vous avec votre binôme à convertir des nombres entiers dans le sens décimal => binaire  et  binaire => décimal...*"
   ]
  },
  {
   "cell_type": "markdown",
   "metadata": {},
   "source": [
    "### Prolongement :\n",
    "\n",
    "Apprenez un tour de magie basé sur le binaire à l'aide des pages web suivante :\n",
    "- http://images.math.cnrs.fr/Jouons-binaire-je-devine-ce-que-tu-penses-4807.html\n",
    "- Et les cartes : https://kimunga.com/up/154.png\n",
    "- ou encore : https://culturemath.ens.fr/thematiques/college/tour-de-magie-binaire\n",
    "\n"
   ]
  },
  {
   "cell_type": "markdown",
   "metadata": {},
   "source": [
    "<a rel=\"license\" href=\"http://creativecommons.org/licenses/by-sa/4.0/\"><img alt=\"Licence Creative Commons\" style=\"border-width:0\" src=\"https://i.creativecommons.org/l/by-sa/4.0/88x31.png\" /></a><br />Ce document adapté d'un travail de Nathalie Le Gac – Lycée Saint Vincent - RENNES est mis à disposition selon les termes de la <a rel=\"license\" href=\"http://creativecommons.org/licenses/by-sa/4.0/\">Licence Creative Commons Attribution -  Partage dans les Mêmes Conditions 4.0 International</a>.\n",
    "\n",
    "Pour toute question, suggestion ou commentaire : <a href=\"mailto:eric.madec@ecmorlaix.fr\">eric.madec@ecmorlaix.fr</a>"
   ]
  },
  {
   "cell_type": "code",
   "execution_count": null,
   "metadata": {},
   "outputs": [],
   "source": []
  }
 ],
 "metadata": {
  "kernelspec": {
   "display_name": "Python 3",
   "language": "python",
   "name": "python3"
  },
  "language_info": {
   "codemirror_mode": {
    "name": "ipython",
    "version": 3
   },
   "file_extension": ".py",
   "mimetype": "text/x-python",
   "name": "python",
   "nbconvert_exporter": "python",
   "pygments_lexer": "ipython3",
   "version": "3.7.3"
  },
  "toc": {
   "base_numbering": 1,
   "nav_menu": {},
   "number_sections": true,
   "sideBar": true,
   "skip_h1_title": false,
   "title_cell": "Table of Contents",
   "title_sidebar": "Contents",
   "toc_cell": false,
   "toc_position": {},
   "toc_section_display": true,
   "toc_window_display": false
  },
  "varInspector": {
   "cols": {
    "lenName": 16,
    "lenType": 16,
    "lenVar": 40
   },
   "kernels_config": {
    "python": {
     "delete_cmd_postfix": "",
     "delete_cmd_prefix": "del ",
     "library": "var_list.py",
     "varRefreshCmd": "print(var_dic_list())"
    },
    "r": {
     "delete_cmd_postfix": ") ",
     "delete_cmd_prefix": "rm(",
     "library": "var_list.r",
     "varRefreshCmd": "cat(var_dic_list()) "
    }
   },
   "types_to_exclude": [
    "module",
    "function",
    "builtin_function_or_method",
    "instance",
    "_Feature"
   ],
   "window_display": false
  }
 },
 "nbformat": 4,
 "nbformat_minor": 2
}
